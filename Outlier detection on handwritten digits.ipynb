{
 "cells": [
  {
   "cell_type": "code",
   "execution_count": 133,
   "id": "virtual-weekend",
   "metadata": {},
   "outputs": [],
   "source": [
    "import pandas as pd\n",
    "import seaborn as sns\n",
    "import numpy as np\n",
    "import matplotlib.pyplot as plt\n",
    "\n",
    "from sklearn.svm import OneClassSVM\n",
    "from sklearn.neighbors import LocalOutlierFactor\n",
    "from sklearn.ensemble import IsolationForest\n",
    "from sklearn.model_selection import GridSearchCV, cross_val_score\n",
    "from sklearn.pipeline import Pipeline\n",
    "from sklearn.preprocessing import RobustScaler\n",
    "from sklearn.datasets import load_digits\n",
    "from sklearn.datasets import fetch_openml\n",
    "from sklearn.kernel_approximation import Nystroem\n",
    "\n",
    "from sklearn_extra.robust import RobustWeightedRegressor\n",
    "    \n",
    "pd.set_option('display.max_columns', 300) # Display up to 300 columns from pandas"
   ]
  },
  {
   "cell_type": "code",
   "execution_count": 115,
   "id": "passing-landscape",
   "metadata": {},
   "outputs": [],
   "source": [
    "X, y = fetch_openml(data_id=554, as_frame=True, return_X_y=True)"
   ]
  },
  {
   "cell_type": "markdown",
   "id": "handmade-techno",
   "metadata": {},
   "source": [
    "We select only the numbers $1$ and $0$"
   ]
  },
  {
   "cell_type": "code",
   "execution_count": 117,
   "id": "informational-china",
   "metadata": {},
   "outputs": [],
   "source": [
    "X = X.loc[(y == '0') | (y == '1')].values\n",
    "y = y.loc[(y == '0') | (y == '1')].values"
   ]
  },
  {
   "cell_type": "code",
   "execution_count": 118,
   "id": "sunrise-shape",
   "metadata": {},
   "outputs": [],
   "source": [
    "y = (y == '1').astype(int) # replace strings \"1\" and \"0\" by int 1 and 0"
   ]
  },
  {
   "cell_type": "code",
   "execution_count": 119,
   "id": "ceramic-question",
   "metadata": {},
   "outputs": [
    {
     "data": {
      "text/plain": [
       "(14780, 784)"
      ]
     },
     "execution_count": 119,
     "metadata": {},
     "output_type": "execute_result"
    }
   ],
   "source": [
    "X.shape"
   ]
  },
  {
   "cell_type": "code",
   "execution_count": 120,
   "id": "historical-split",
   "metadata": {},
   "outputs": [
    {
     "data": {
      "text/plain": [
       "0.5329499323410013"
      ]
     },
     "execution_count": 120,
     "metadata": {},
     "output_type": "execute_result"
    }
   ],
   "source": [
    "np.mean(y) "
   ]
  },
  {
   "cell_type": "code",
   "execution_count": 121,
   "id": "taken-freight",
   "metadata": {},
   "outputs": [],
   "source": [
    "size = 28"
   ]
  },
  {
   "cell_type": "code",
   "execution_count": 157,
   "id": "efficient-practice",
   "metadata": {},
   "outputs": [
    {
     "data": {
      "image/png": "[encoded data removed]",
      "text/plain": [
       "<Figure size 432x288 with 1 Axes>"
      ]
     },
     "metadata": {
      "needs_background": "light"
     },
     "output_type": "display_data"
    }
   ],
   "source": [
    "plt.gray() \n",
    "plt.imshow(X[0].reshape([size, size])) \n",
    "plt.show() "
   ]
  },
  {
   "cell_type": "markdown",
   "id": "matched-nightmare",
   "metadata": {},
   "source": [
    "First, we have to check that our estimator do a good job in classifying this dataset."
   ]
  },
  {
   "cell_type": "code",
   "execution_count": 123,
   "id": "gross-museum",
   "metadata": {},
   "outputs": [],
   "source": [
    "from sklearn_extra.robust import RobustWeightedClassifier"
   ]
  },
  {
   "cell_type": "code",
   "execution_count": 164,
   "id": "artistic-token",
   "metadata": {},
   "outputs": [
    {
     "name": "stdout",
     "output_type": "stream",
     "text": [
      "0.9836265223274696\n"
     ]
    }
   ],
   "source": [
    "clf = Pipeline([ ('scaler', RobustScaler()), \n",
    "                ('clf', RobustWeightedClassifier(c=1.35, multi_class='binary'))])\n",
    "print(np.mean(cross_val_score(clf, X, y, cv=5)))"
   ]
  },
  {
   "cell_type": "markdown",
   "id": "understood-respect",
   "metadata": {},
   "source": [
    "98.3% is reasonable for a linear classifier. More complicated approaches like CNN could do better but this is not our goal here because it is most likely that a CNN would succeed in rightly classifying the outliers. Let us compute the outlier weights and plot the 500 smaller weights."
   ]
  },
  {
   "cell_type": "code",
   "execution_count": 165,
   "id": "increased-drawing",
   "metadata": {},
   "outputs": [
    {
     "data": {
      "text/plain": [
       "RobustWeightedClassifier(c=1.35, multi_class='binary')"
      ]
     },
     "execution_count": 165,
     "metadata": {},
     "output_type": "execute_result"
    }
   ],
   "source": [
    "scaler = RobustScaler()\n",
    "X_transformed = scaler.fit_transform(X)\n",
    "clf = RobustWeightedClassifier(c=1.35, multi_class='binary')\n",
    "clf.fit(X_transformed,y)"
   ]
  },
  {
   "cell_type": "code",
   "execution_count": 166,
   "id": "sonic-embassy",
   "metadata": {},
   "outputs": [
    {
     "data": {
      "text/plain": [
       "<BarContainer object of 500 artists>"
      ]
     },
     "execution_count": 166,
     "metadata": {},
     "output_type": "execute_result"
    },
    {
     "data": {
      "image/png": "[encoded data removed]",
      "text/plain": [
       "<Figure size 432x288 with 1 Axes>"
      ]
     },
     "metadata": {
      "needs_background": "light"
     },
     "output_type": "display_data"
    }
   ],
   "source": [
    "plt.bar(np.arange(len(clf.weights_))[:500], np.sort(clf.weights_)[:500])"
   ]
  },
  {
   "cell_type": "markdown",
   "id": "indoor-summary",
   "metadata": {},
   "source": [
    "Let us look at the outlier images."
   ]
  },
  {
   "cell_type": "code",
   "execution_count": 167,
   "id": "banner-transaction",
   "metadata": {},
   "outputs": [],
   "source": [
    "outliers = np.argsort(clf.weights_)[:20]"
   ]
  },
  {
   "cell_type": "code",
   "execution_count": 168,
   "id": "endangered-divorce",
   "metadata": {},
   "outputs": [
    {
     "data": {
      "image/png": "[encoded data removed]",
      "text/plain": [
       "<Figure size 1080x720 with 20 Axes>"
      ]
     },
     "metadata": {
      "needs_background": "light"
     },
     "output_type": "display_data"
    }
   ],
   "source": [
    "plt.figure(figsize=[15,10])\n",
    "plt.gray() \n",
    "for f in range(20):\n",
    "    plt.subplot(4,5,f+1)\n",
    "    plt.imshow(X[outliers[f]].reshape([size, size])) \n",
    "plt.show() "
   ]
  },
  {
   "cell_type": "markdown",
   "id": "posted-diesel",
   "metadata": {},
   "source": [
    "A lot of these pictures seem to be indeed outliers. \n",
    "\n",
    "In particular, the outlier \"1\" are either very thick, or have a bar on the bottom, or have some defect on the right. "
   ]
  }
 ],
 "metadata": {
  "kernelspec": {
   "display_name": "Python 3",
   "language": "python",
   "name": "python3"
  },
  "language_info": {
   "codemirror_mode": {
    "name": "ipython",
    "version": 3
   },
   "file_extension": ".py",
   "mimetype": "text/x-python",
   "name": "python",
   "nbconvert_exporter": "python",
   "pygments_lexer": "ipython3",
   "version": "3.9.2"
  }
 },
 "nbformat": 4,
 "nbformat_minor": 5
}
