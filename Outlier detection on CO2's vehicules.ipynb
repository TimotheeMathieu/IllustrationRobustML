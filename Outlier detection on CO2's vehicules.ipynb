{
 "cells": [
  {
   "cell_type": "markdown",
   "id": "fewer-duncan",
   "metadata": {},
   "source": [
    "Data from https://www.kaggle.com/debajyotipodder/co2-emission-by-vehicles"
   ]
  },
  {
   "cell_type": "code",
   "execution_count": 9,
   "id": "virtual-weekend",
   "metadata": {},
   "outputs": [],
   "source": [
    "import pandas as pd\n",
    "import seaborn as sns\n",
    "import numpy as np\n",
    "import matplotlib.pyplot as plt\n",
    "\n",
    "from sklearn.svm import OneClassSVM\n",
    "from sklearn.neighbors import LocalOutlierFactor\n",
    "from sklearn.ensemble import IsolationForest\n",
    "from sklearn.model_selection import GridSearchCV, cross_val_score\n",
    "from sklearn.pipeline import Pipeline\n",
    "from sklearn.preprocessing import RobustScaler\n",
    "from sklearn.datasets import load_digits\n",
    "from sklearn.datasets import fetch_openml\n",
    "from sklearn.kernel_approximation import Nystroem\n",
    "\n",
    "from sklearn_extra.robust import RobustWeightedRegressor\n",
    "    \n",
    "pd.set_option('display.max_columns', 300) # Display up to 300 columns from pandas"
   ]
  },
  {
   "cell_type": "code",
   "execution_count": 10,
   "id": "international-compilation",
   "metadata": {},
   "outputs": [],
   "source": [
    "df = pd.read_csv('data/co2/CO2 Emissions_Canada.csv')"
   ]
  },
  {
   "cell_type": "code",
   "execution_count": 11,
   "id": "sticky-carpet",
   "metadata": {},
   "outputs": [],
   "source": [
    "X = df[df.columns[:-1]]\n",
    "y = df['CO2 Emissions(g/km)']"
   ]
  },
  {
   "cell_type": "code",
   "execution_count": 12,
   "id": "fifty-compensation",
   "metadata": {},
   "outputs": [],
   "source": [
    "X = X.drop(columns=['Make', 'Model'])"
   ]
  },
  {
   "cell_type": "code",
   "execution_count": 13,
   "id": "prospective-adams",
   "metadata": {},
   "outputs": [
    {
     "data": {
      "text/html": [
       "<div>\n",
       "<style scoped>\n",
       "    .dataframe tbody tr th:only-of-type {\n",
       "        vertical-align: middle;\n",
       "    }\n",
       "\n",
       "    .dataframe tbody tr th {\n",
       "        vertical-align: top;\n",
       "    }\n",
       "\n",
       "    .dataframe thead th {\n",
       "        text-align: right;\n",
       "    }\n",
       "</style>\n",
       "<table border=\"1\" class=\"dataframe\">\n",
       "  <thead>\n",
       "    <tr style=\"text-align: right;\">\n",
       "      <th></th>\n",
       "      <th>Vehicle Class</th>\n",
       "      <th>Engine Size(L)</th>\n",
       "      <th>Cylinders</th>\n",
       "      <th>Transmission</th>\n",
       "      <th>Fuel Type</th>\n",
       "      <th>Fuel Consumption City (L/100 km)</th>\n",
       "      <th>Fuel Consumption Hwy (L/100 km)</th>\n",
       "      <th>Fuel Consumption Comb (L/100 km)</th>\n",
       "      <th>Fuel Consumption Comb (mpg)</th>\n",
       "    </tr>\n",
       "  </thead>\n",
       "  <tbody>\n",
       "    <tr>\n",
       "      <th>0</th>\n",
       "      <td>COMPACT</td>\n",
       "      <td>2.0</td>\n",
       "      <td>4</td>\n",
       "      <td>AS5</td>\n",
       "      <td>Z</td>\n",
       "      <td>9.9</td>\n",
       "      <td>6.7</td>\n",
       "      <td>8.5</td>\n",
       "      <td>33</td>\n",
       "    </tr>\n",
       "    <tr>\n",
       "      <th>1</th>\n",
       "      <td>COMPACT</td>\n",
       "      <td>2.4</td>\n",
       "      <td>4</td>\n",
       "      <td>M6</td>\n",
       "      <td>Z</td>\n",
       "      <td>11.2</td>\n",
       "      <td>7.7</td>\n",
       "      <td>9.6</td>\n",
       "      <td>29</td>\n",
       "    </tr>\n",
       "    <tr>\n",
       "      <th>2</th>\n",
       "      <td>COMPACT</td>\n",
       "      <td>1.5</td>\n",
       "      <td>4</td>\n",
       "      <td>AV7</td>\n",
       "      <td>Z</td>\n",
       "      <td>6.0</td>\n",
       "      <td>5.8</td>\n",
       "      <td>5.9</td>\n",
       "      <td>48</td>\n",
       "    </tr>\n",
       "    <tr>\n",
       "      <th>3</th>\n",
       "      <td>SUV - SMALL</td>\n",
       "      <td>3.5</td>\n",
       "      <td>6</td>\n",
       "      <td>AS6</td>\n",
       "      <td>Z</td>\n",
       "      <td>12.7</td>\n",
       "      <td>9.1</td>\n",
       "      <td>11.1</td>\n",
       "      <td>25</td>\n",
       "    </tr>\n",
       "    <tr>\n",
       "      <th>4</th>\n",
       "      <td>SUV - SMALL</td>\n",
       "      <td>3.5</td>\n",
       "      <td>6</td>\n",
       "      <td>AS6</td>\n",
       "      <td>Z</td>\n",
       "      <td>12.1</td>\n",
       "      <td>8.7</td>\n",
       "      <td>10.6</td>\n",
       "      <td>27</td>\n",
       "    </tr>\n",
       "  </tbody>\n",
       "</table>\n",
       "</div>"
      ],
      "text/plain": [
       "  Vehicle Class  Engine Size(L)  Cylinders Transmission Fuel Type  \\\n",
       "0       COMPACT             2.0          4          AS5         Z   \n",
       "1       COMPACT             2.4          4           M6         Z   \n",
       "2       COMPACT             1.5          4          AV7         Z   \n",
       "3   SUV - SMALL             3.5          6          AS6         Z   \n",
       "4   SUV - SMALL             3.5          6          AS6         Z   \n",
       "\n",
       "   Fuel Consumption City (L/100 km)  Fuel Consumption Hwy (L/100 km)  \\\n",
       "0                               9.9                              6.7   \n",
       "1                              11.2                              7.7   \n",
       "2                               6.0                              5.8   \n",
       "3                              12.7                              9.1   \n",
       "4                              12.1                              8.7   \n",
       "\n",
       "   Fuel Consumption Comb (L/100 km)  Fuel Consumption Comb (mpg)  \n",
       "0                               8.5                           33  \n",
       "1                               9.6                           29  \n",
       "2                               5.9                           48  \n",
       "3                              11.1                           25  \n",
       "4                              10.6                           27  "
      ]
     },
     "execution_count": 13,
     "metadata": {},
     "output_type": "execute_result"
    }
   ],
   "source": [
    "X.head()"
   ]
  },
  {
   "cell_type": "code",
   "execution_count": 14,
   "id": "yellow-referral",
   "metadata": {},
   "outputs": [
    {
     "data": {
      "text/plain": [
       "(7385, 9)"
      ]
     },
     "execution_count": 14,
     "metadata": {},
     "output_type": "execute_result"
    }
   ],
   "source": [
    "X.shape"
   ]
  },
  {
   "cell_type": "code",
   "execution_count": 15,
   "id": "exclusive-weight",
   "metadata": {},
   "outputs": [
    {
     "data": {
      "text/plain": [
       "<AxesSubplot:xlabel='CO2 Emissions(g/km)', ylabel='Count'>"
      ]
     },
     "execution_count": 15,
     "metadata": {},
     "output_type": "execute_result"
    },
    {
     "data": {
      "image/png": "[encoded data removed]",
      "text/plain": [
       "<Figure size 1080x360 with 1 Axes>"
      ]
     },
     "metadata": {
      "needs_background": "light"
     },
     "output_type": "display_data"
    }
   ],
   "source": [
    "plt.figure(figsize=(15,5))\n",
    "sns.histplot(data = df, x='CO2 Emissions(g/km)')"
   ]
  },
  {
   "cell_type": "code",
   "execution_count": 16,
   "id": "scheduled-leisure",
   "metadata": {},
   "outputs": [
    {
     "data": {
      "text/plain": [
       "(54,)"
      ]
     },
     "execution_count": 16,
     "metadata": {},
     "output_type": "execute_result"
    }
   ],
   "source": [
    "X = pd.get_dummies(X, drop_first=False)\n",
    "X.columns.shape"
   ]
  },
  {
   "cell_type": "code",
   "execution_count": 17,
   "id": "japanese-congo",
   "metadata": {},
   "outputs": [
    {
     "name": "stdout",
     "output_type": "stream",
     "text": [
      "-2.5002496031008206\n"
     ]
    }
   ],
   "source": [
    "from sklearn_extra.robust import RobustWeightedRegressor\n",
    "reg = Pipeline(steps=[('scaler', RobustScaler()),\n",
    "                ('reg',RobustWeightedRegressor(burn_in=0, k=20, weighting='mom'))])\n",
    "print(np.mean(cross_val_score(reg, X, y, cv=5, scoring=\"neg_median_absolute_error\")))"
   ]
  },
  {
   "cell_type": "code",
   "execution_count": 18,
   "id": "later-angle",
   "metadata": {},
   "outputs": [
    {
     "name": "stdout",
     "output_type": "stream",
     "text": [
      "-1.75994689199689\n"
     ]
    }
   ],
   "source": [
    "from sklearn.ensemble import RandomForestRegressor\n",
    "reg = RandomForestRegressor()\n",
    "print(np.mean(cross_val_score(reg, X, y, cv=5, scoring=\"neg_median_absolute_error\")))"
   ]
  },
  {
   "cell_type": "code",
   "execution_count": 19,
   "id": "binary-enemy",
   "metadata": {},
   "outputs": [
    {
     "name": "stderr",
     "output_type": "stream",
     "text": [
      "/home/frost/info/scikit-learn-extra/scikit-learn-extra/sklearn_extra/robust/robust_weighted_estimator.py:393: ConvergenceWarning: Maximum number of iteration reached before convergence. Consider increasing max_iter to improve the fit.\n",
      "  warnings.warn(\n"
     ]
    },
    {
     "data": {
      "text/plain": [
       "RobustWeightedRegressor(burn_in=0, k=20, max_iter=500, tol=-10, weighting='mom')"
      ]
     },
     "execution_count": 19,
     "metadata": {},
     "output_type": "execute_result"
    }
   ],
   "source": [
    "scaler = RobustScaler()\n",
    "X_transformed = scaler.fit_transform(X)\n",
    "reg = RobustWeightedRegressor(burn_in=0, k=20, weighting='mom', tol=-10, max_iter = 500) \n",
    "# set a negative tolerance to force the algorithm to stop late. \n",
    "# It is needed because the weights for mom need a lot of iterations to be computed.\n",
    "reg.fit(X_transformed,y)"
   ]
  },
  {
   "cell_type": "code",
   "execution_count": 20,
   "id": "descending-legislature",
   "metadata": {},
   "outputs": [
    {
     "data": {
      "text/plain": [
       "<BarContainer object of 500 artists>"
      ]
     },
     "execution_count": 20,
     "metadata": {},
     "output_type": "execute_result"
    },
    {
     "data": {
      "image/png": "[encoded data removed]",
      "text/plain": [
       "<Figure size 432x288 with 1 Axes>"
      ]
     },
     "metadata": {
      "needs_background": "light"
     },
     "output_type": "display_data"
    }
   ],
   "source": [
    "plt.bar(np.arange(len(reg.weights_))[:500], np.sort(reg.weights_)[:500])"
   ]
  },
  {
   "cell_type": "code",
   "execution_count": 21,
   "id": "impaired-declaration",
   "metadata": {},
   "outputs": [],
   "source": [
    "outliers = np.argsort(reg.weights_)[:10]"
   ]
  },
  {
   "cell_type": "code",
   "execution_count": 22,
   "id": "concerned-billion",
   "metadata": {},
   "outputs": [
    {
     "data": {
      "text/html": [
       "<div>\n",
       "<style scoped>\n",
       "    .dataframe tbody tr th:only-of-type {\n",
       "        vertical-align: middle;\n",
       "    }\n",
       "\n",
       "    .dataframe tbody tr th {\n",
       "        vertical-align: top;\n",
       "    }\n",
       "\n",
       "    .dataframe thead th {\n",
       "        text-align: right;\n",
       "    }\n",
       "</style>\n",
       "<table border=\"1\" class=\"dataframe\">\n",
       "  <thead>\n",
       "    <tr style=\"text-align: right;\">\n",
       "      <th></th>\n",
       "      <th>Make</th>\n",
       "      <th>Model</th>\n",
       "      <th>Vehicle Class</th>\n",
       "      <th>Engine Size(L)</th>\n",
       "      <th>Cylinders</th>\n",
       "      <th>Transmission</th>\n",
       "      <th>Fuel Type</th>\n",
       "      <th>Fuel Consumption City (L/100 km)</th>\n",
       "      <th>Fuel Consumption Hwy (L/100 km)</th>\n",
       "      <th>Fuel Consumption Comb (L/100 km)</th>\n",
       "      <th>Fuel Consumption Comb (mpg)</th>\n",
       "      <th>CO2 Emissions(g/km)</th>\n",
       "    </tr>\n",
       "  </thead>\n",
       "  <tbody>\n",
       "    <tr>\n",
       "      <th>1530</th>\n",
       "      <td>GMC</td>\n",
       "      <td>SAVANA 2500 PASSENGER FFV</td>\n",
       "      <td>VAN - PASSENGER</td>\n",
       "      <td>6.0</td>\n",
       "      <td>8</td>\n",
       "      <td>A6</td>\n",
       "      <td>E</td>\n",
       "      <td>30.3</td>\n",
       "      <td>20.5</td>\n",
       "      <td>25.9</td>\n",
       "      <td>11</td>\n",
       "      <td>414</td>\n",
       "    </tr>\n",
       "    <tr>\n",
       "      <th>225</th>\n",
       "      <td>CHEVROLET</td>\n",
       "      <td>EXPRESS 2500 PASSENGER</td>\n",
       "      <td>VAN - PASSENGER</td>\n",
       "      <td>6.0</td>\n",
       "      <td>8</td>\n",
       "      <td>A6</td>\n",
       "      <td>E</td>\n",
       "      <td>30.0</td>\n",
       "      <td>20.4</td>\n",
       "      <td>25.7</td>\n",
       "      <td>11</td>\n",
       "      <td>411</td>\n",
       "    </tr>\n",
       "    <tr>\n",
       "      <th>1534</th>\n",
       "      <td>GMC</td>\n",
       "      <td>SAVANA 3500 PASSENGER FFV</td>\n",
       "      <td>VAN - PASSENGER</td>\n",
       "      <td>6.0</td>\n",
       "      <td>8</td>\n",
       "      <td>A6</td>\n",
       "      <td>E</td>\n",
       "      <td>30.6</td>\n",
       "      <td>20.6</td>\n",
       "      <td>26.1</td>\n",
       "      <td>11</td>\n",
       "      <td>418</td>\n",
       "    </tr>\n",
       "    <tr>\n",
       "      <th>452</th>\n",
       "      <td>GMC</td>\n",
       "      <td>SAVANA 3500 PASSENGER</td>\n",
       "      <td>VAN - PASSENGER</td>\n",
       "      <td>6.0</td>\n",
       "      <td>8</td>\n",
       "      <td>A6</td>\n",
       "      <td>E</td>\n",
       "      <td>30.2</td>\n",
       "      <td>20.5</td>\n",
       "      <td>25.8</td>\n",
       "      <td>11</td>\n",
       "      <td>413</td>\n",
       "    </tr>\n",
       "    <tr>\n",
       "      <th>1329</th>\n",
       "      <td>CHEVROLET</td>\n",
       "      <td>EXPRESS 3500 PASSENGER FFV</td>\n",
       "      <td>VAN - PASSENGER</td>\n",
       "      <td>6.0</td>\n",
       "      <td>8</td>\n",
       "      <td>A6</td>\n",
       "      <td>E</td>\n",
       "      <td>30.6</td>\n",
       "      <td>20.6</td>\n",
       "      <td>26.1</td>\n",
       "      <td>11</td>\n",
       "      <td>418</td>\n",
       "    </tr>\n",
       "    <tr>\n",
       "      <th>228</th>\n",
       "      <td>CHEVROLET</td>\n",
       "      <td>EXPRESS 3500 PASSENGER</td>\n",
       "      <td>VAN - PASSENGER</td>\n",
       "      <td>6.0</td>\n",
       "      <td>8</td>\n",
       "      <td>A6</td>\n",
       "      <td>E</td>\n",
       "      <td>30.2</td>\n",
       "      <td>20.5</td>\n",
       "      <td>25.8</td>\n",
       "      <td>11</td>\n",
       "      <td>413</td>\n",
       "    </tr>\n",
       "    <tr>\n",
       "      <th>5120</th>\n",
       "      <td>MERCEDES-BENZ</td>\n",
       "      <td>AMG C 63 S COUPE</td>\n",
       "      <td>SUBCOMPACT</td>\n",
       "      <td>4.0</td>\n",
       "      <td>8</td>\n",
       "      <td>A7</td>\n",
       "      <td>Z</td>\n",
       "      <td>13.8</td>\n",
       "      <td>10.2</td>\n",
       "      <td>12.2</td>\n",
       "      <td>23</td>\n",
       "      <td>285</td>\n",
       "    </tr>\n",
       "    <tr>\n",
       "      <th>7339</th>\n",
       "      <td>TOYOTA</td>\n",
       "      <td>Highlander Hybrid AWD</td>\n",
       "      <td>SUV - STANDARD</td>\n",
       "      <td>2.5</td>\n",
       "      <td>4</td>\n",
       "      <td>AV</td>\n",
       "      <td>X</td>\n",
       "      <td>6.7</td>\n",
       "      <td>6.8</td>\n",
       "      <td>6.7</td>\n",
       "      <td>42</td>\n",
       "      <td>158</td>\n",
       "    </tr>\n",
       "    <tr>\n",
       "      <th>4816</th>\n",
       "      <td>GMC</td>\n",
       "      <td>CANYON 4WD</td>\n",
       "      <td>PICKUP TRUCK - SMALL</td>\n",
       "      <td>2.8</td>\n",
       "      <td>4</td>\n",
       "      <td>A6</td>\n",
       "      <td>D</td>\n",
       "      <td>12.1</td>\n",
       "      <td>8.3</td>\n",
       "      <td>10.4</td>\n",
       "      <td>27</td>\n",
       "      <td>279</td>\n",
       "    </tr>\n",
       "    <tr>\n",
       "      <th>3419</th>\n",
       "      <td>BMW</td>\n",
       "      <td>M240i CABRIOLET</td>\n",
       "      <td>SUBCOMPACT</td>\n",
       "      <td>3.0</td>\n",
       "      <td>6</td>\n",
       "      <td>M6</td>\n",
       "      <td>Z</td>\n",
       "      <td>12.2</td>\n",
       "      <td>8.2</td>\n",
       "      <td>10.4</td>\n",
       "      <td>27</td>\n",
       "      <td>242</td>\n",
       "    </tr>\n",
       "  </tbody>\n",
       "</table>\n",
       "</div>"
      ],
      "text/plain": [
       "               Make                       Model         Vehicle Class  \\\n",
       "1530            GMC   SAVANA 2500 PASSENGER FFV       VAN - PASSENGER   \n",
       "225       CHEVROLET      EXPRESS 2500 PASSENGER       VAN - PASSENGER   \n",
       "1534            GMC   SAVANA 3500 PASSENGER FFV       VAN - PASSENGER   \n",
       "452             GMC       SAVANA 3500 PASSENGER       VAN - PASSENGER   \n",
       "1329      CHEVROLET  EXPRESS 3500 PASSENGER FFV       VAN - PASSENGER   \n",
       "228       CHEVROLET      EXPRESS 3500 PASSENGER       VAN - PASSENGER   \n",
       "5120  MERCEDES-BENZ            AMG C 63 S COUPE            SUBCOMPACT   \n",
       "7339         TOYOTA       Highlander Hybrid AWD        SUV - STANDARD   \n",
       "4816            GMC                  CANYON 4WD  PICKUP TRUCK - SMALL   \n",
       "3419            BMW             M240i CABRIOLET            SUBCOMPACT   \n",
       "\n",
       "      Engine Size(L)  Cylinders Transmission Fuel Type  \\\n",
       "1530             6.0          8           A6         E   \n",
       "225              6.0          8           A6         E   \n",
       "1534             6.0          8           A6         E   \n",
       "452              6.0          8           A6         E   \n",
       "1329             6.0          8           A6         E   \n",
       "228              6.0          8           A6         E   \n",
       "5120             4.0          8           A7         Z   \n",
       "7339             2.5          4           AV         X   \n",
       "4816             2.8          4           A6         D   \n",
       "3419             3.0          6           M6         Z   \n",
       "\n",
       "      Fuel Consumption City (L/100 km)  Fuel Consumption Hwy (L/100 km)  \\\n",
       "1530                              30.3                             20.5   \n",
       "225                               30.0                             20.4   \n",
       "1534                              30.6                             20.6   \n",
       "452                               30.2                             20.5   \n",
       "1329                              30.6                             20.6   \n",
       "228                               30.2                             20.5   \n",
       "5120                              13.8                             10.2   \n",
       "7339                               6.7                              6.8   \n",
       "4816                              12.1                              8.3   \n",
       "3419                              12.2                              8.2   \n",
       "\n",
       "      Fuel Consumption Comb (L/100 km)  Fuel Consumption Comb (mpg)  \\\n",
       "1530                              25.9                           11   \n",
       "225                               25.7                           11   \n",
       "1534                              26.1                           11   \n",
       "452                               25.8                           11   \n",
       "1329                              26.1                           11   \n",
       "228                               25.8                           11   \n",
       "5120                              12.2                           23   \n",
       "7339                               6.7                           42   \n",
       "4816                              10.4                           27   \n",
       "3419                              10.4                           27   \n",
       "\n",
       "      CO2 Emissions(g/km)  \n",
       "1530                  414  \n",
       "225                   411  \n",
       "1534                  418  \n",
       "452                   413  \n",
       "1329                  418  \n",
       "228                   413  \n",
       "5120                  285  \n",
       "7339                  158  \n",
       "4816                  279  \n",
       "3419                  242  "
      ]
     },
     "execution_count": 22,
     "metadata": {},
     "output_type": "execute_result"
    }
   ],
   "source": [
    "df.iloc[outliers]"
   ]
  },
  {
   "cell_type": "markdown",
   "id": "raising-defendant",
   "metadata": {},
   "source": [
    "It seems there are indeed some outlying caracteristics in these cars. A lot of them have a CO2 emision above 300 which is abnormal. \n",
    "\n",
    "\n",
    "On the other hand, for instance there is the \"Highlander Hybrid AWD\" which present a very low CO2 emission but a large Fuel Consumption. \n",
    "\n",
    "We would need to ask a car specialist to know for sure whether all these cars are outliers in regard to their CO2 emissions compared to the features but we can already spot some abnormal cases."
   ]
  }
 ],
 "metadata": {
  "kernelspec": {
   "display_name": "Python 3",
   "language": "python",
   "name": "python3"
  },
  "language_info": {
   "codemirror_mode": {
    "name": "ipython",
    "version": 3
   },
   "file_extension": ".py",
   "mimetype": "text/x-python",
   "name": "python",
   "nbconvert_exporter": "python",
   "pygments_lexer": "ipython3",
   "version": "3.9.2"
  }
 },
 "nbformat": 4,
 "nbformat_minor": 5
}
