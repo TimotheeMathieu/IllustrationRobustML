{
 "cells": [
  {
   "cell_type": "markdown",
   "id": "linear-particular",
   "metadata": {},
   "source": [
    "See [github repo](https://github.com/TimotheeMathieu/IllustrationRobustML) for ipynb files "
   ]
  },
  {
   "cell_type": "markdown",
   "id": "covered-toyota",
   "metadata": {},
   "source": [
    "In this notebook, we illustrate the robust properties of [RobustWeighdedRegressor](https://scikit-learn-extra.readthedocs.io/en/stable/generated/sklearn_extra.robust.RobustWeightedRegressor.html#sklearn_extra.robust.RobustWeightedRegressor) on a simple toy example.\n",
    "\n",
    "We compare our agorithm with several linear estimators from scikit-learn [linear-model](https://scikit-learn.org/stable/modules/classes.html#module-sklearn.linear_model) module. \n",
    "\n",
    "Notice that the \"robust\" estimator `HuberRegressor` is only robust to outliers in $y$ while `RobustWeighdedRegressor`, `TheilSenRegressor` and `RANSACRegressor` are robust to outliers in both $X$ and $y$."
   ]
  },
  {
   "cell_type": "code",
   "execution_count": 1,
   "id": "discrete-parks",
   "metadata": {},
   "outputs": [
    {
     "data": {
      "image/png": "[encoded data removed]",
      "text/plain": [
       "<Figure size 432x288 with 1 Axes>"
      ]
     },
     "metadata": {
      "needs_background": "light"
     },
     "output_type": "display_data"
    }
   ],
   "source": [
    "import matplotlib.pyplot as plt\n",
    "import numpy as np\n",
    "\n",
    "from sklearn_extra.robust import RobustWeightedRegressor\n",
    "from sklearn.utils import shuffle\n",
    "from sklearn.linear_model import (\n",
    "    SGDRegressor,\n",
    "    LinearRegression,\n",
    "    TheilSenRegressor,\n",
    "    RANSACRegressor,\n",
    "    HuberRegressor,\n",
    ")\n",
    "\n",
    "# Sample along a line with a Gaussian noise.\n",
    "rng = np.random.RandomState(42)\n",
    "X = rng.uniform(-1, 1, size=[100])\n",
    "y = X + 0.1 * rng.normal(size=100)\n",
    "\n",
    "# Change the 5 last entries to an outlier.\n",
    "X[-5:] = 10\n",
    "X = X.reshape(-1, 1)\n",
    "y[-5:] = -1\n",
    "\n",
    "# Shuffle the data so that we don't know where the outlier is.\n",
    "X, y = shuffle(X, y, random_state=rng)\n",
    "estimators = [\n",
    "    (\"OLS\", LinearRegression()),\n",
    "    (\"Theil-Sen\", TheilSenRegressor(random_state=rng)),\n",
    "    (\"RANSAC\", RANSACRegressor(random_state=rng)),\n",
    "    (\"HuberRegressor\", HuberRegressor()),\n",
    "    (\n",
    "        \"SGD epsilon loss\",\n",
    "        SGDRegressor(loss=\"epsilon_insensitive\", random_state=rng),\n",
    "    ),\n",
    "    (\n",
    "        \"RobustWeightedRegressor\",\n",
    "        RobustWeightedRegressor(weighting=\"mom\", k=7, random_state=rng),\n",
    "        # The parameter k is set larger to the number of outliers\n",
    "        # because here we know it.\n",
    "    ),\n",
    "]\n",
    "\n",
    "\n",
    "colors = {\n",
    "    \"OLS\": \"turquoise\",\n",
    "    \"Theil-Sen\": \"gold\",\n",
    "    \"RANSAC\": \"lightgreen\",\n",
    "    \"HuberRegressor\": \"black\",\n",
    "    \"RobustWeightedRegressor\": \"magenta\",\n",
    "    \"SGD epsilon loss\": \"purple\",\n",
    "}\n",
    "linestyle = {\n",
    "    \"OLS\": \"-\",\n",
    "    \"SGD epsilon loss\": \"-\",\n",
    "    \"Theil-Sen\": \"-.\",\n",
    "    \"RANSAC\": \"--\",\n",
    "    \"HuberRegressor\": \"--\",\n",
    "    \"RobustWeightedRegressor\": \"--\",\n",
    "}\n",
    "lw = 3\n",
    "\n",
    "x_plot = np.linspace(X.min(), X.max())\n",
    "\n",
    "plt.plot(X, y, \"b+\")\n",
    "\n",
    "for name, estimator in estimators:\n",
    "    estimator.fit(X, y)\n",
    "    y_plot = estimator.predict(x_plot[:, np.newaxis])\n",
    "    plt.plot(\n",
    "        x_plot,\n",
    "        y_plot,\n",
    "        color=colors[name],\n",
    "        linestyle=linestyle[name],\n",
    "        linewidth=lw,\n",
    "        label=\"%s\" % (name),\n",
    "    )\n",
    "\n",
    "legend = plt.legend(loc=\"upper right\", prop=dict(size=\"x-small\"))\n",
    "\n",
    "plt.title(\n",
    "    \"Scatter plot of training set and representation of\"\n",
    "    \" estimation functions\"\n",
    ")\n",
    "plt.show()\n"
   ]
  },
  {
   "cell_type": "code",
   "execution_count": null,
   "id": "associate-appointment",
   "metadata": {},
   "outputs": [],
   "source": []
  }
 ],
 "metadata": {
  "kernelspec": {
   "display_name": "Python 3",
   "language": "python",
   "name": "python3"
  },
  "language_info": {
   "codemirror_mode": {
    "name": "ipython",
    "version": 3
   },
   "file_extension": ".py",
   "mimetype": "text/x-python",
   "name": "python",
   "nbconvert_exporter": "python",
   "pygments_lexer": "ipython3",
   "version": "3.9.2"
  }
 },
 "nbformat": 4,
 "nbformat_minor": 5
}
