{
 "cells": [
  {
   "cell_type": "markdown",
   "id": "acquired-error",
   "metadata": {},
   "source": [
    "### Library imports"
   ]
  },
  {
   "cell_type": "code",
   "execution_count": 1,
   "id": "purple-orange",
   "metadata": {},
   "outputs": [],
   "source": [
    "import pandas as pd\n",
    "import seaborn as sns\n",
    "import numpy as np\n",
    "import matplotlib.pyplot as plt\n",
    "\n",
    "from sklearn.pipeline import Pipeline\n",
    "from sklearn.preprocessing import OneHotEncoder, RobustScaler\n",
    "from sklearn.model_selection import train_test_split, GridSearchCV\n",
    "from sklearn.linear_model import LinearRegression, HuberRegressor, RANSACRegressor, TheilSenRegressor\n",
    "from sklearn.ensemble import RandomForestRegressor\n",
    "from sklearn.svm import SVR\n",
    "\n",
    "from sklearn_extra.robust import RobustWeightedRegressor\n",
    "    \n",
    "pd.set_option('display.max_columns', 300) # Display up to 300 columns from pandas"
   ]
  },
  {
   "cell_type": "markdown",
   "id": "fatty-williams",
   "metadata": {},
   "source": [
    "## TOC:\n",
    "* [Loading the dataset](#dataset)\n",
    "    * [Reading the dataset with pandas](#pandas)\n",
    "    * [Basic EDA](#eda)\n",
    "* [Regression Study](#regression)\n",
    "    * [Help functions for residual computation and model definition](#help)\n",
    "    * [Computation of residuals on 1 fold](#1fold)\n",
    "    * [Computation of residuals on 10 folds and discussion on the evaluation metric](#10fold)\n",
    "* [Annex: Selection of Hyperparameters](#annex)"
   ]
  },
  {
   "cell_type": "markdown",
   "id": "raised-reference",
   "metadata": {},
   "source": [
    "## Loading the Dataset <a class=\"anchor\" id=\"dataset\"></a>"
   ]
  },
  {
   "cell_type": "markdown",
   "id": "integral-hundred",
   "metadata": {},
   "source": [
    "#### Reading the dataset with pandas <a class=\"anchor\" id=\"pandas\"></a>\n",
    "From https://www.kaggle.com/vikasukani/forest-firearea-datasets"
   ]
  },
  {
   "cell_type": "code",
   "execution_count": 2,
   "id": "duplicate-interim",
   "metadata": {},
   "outputs": [],
   "source": [
    "df = pd.read_csv('data/forestfires.csv', sep=',')"
   ]
  },
  {
   "cell_type": "code",
   "execution_count": 3,
   "id": "sweet-denmark",
   "metadata": {},
   "outputs": [
    {
     "data": {
      "text/html": [
       "<div>\n",
       "<style scoped>\n",
       "    .dataframe tbody tr th:only-of-type {\n",
       "        vertical-align: middle;\n",
       "    }\n",
       "\n",
       "    .dataframe tbody tr th {\n",
       "        vertical-align: top;\n",
       "    }\n",
       "\n",
       "    .dataframe thead th {\n",
       "        text-align: right;\n",
       "    }\n",
       "</style>\n",
       "<table border=\"1\" class=\"dataframe\">\n",
       "  <thead>\n",
       "    <tr style=\"text-align: right;\">\n",
       "      <th></th>\n",
       "      <th>X</th>\n",
       "      <th>Y</th>\n",
       "      <th>month</th>\n",
       "      <th>day</th>\n",
       "      <th>FFMC</th>\n",
       "      <th>DMC</th>\n",
       "      <th>DC</th>\n",
       "      <th>ISI</th>\n",
       "      <th>temp</th>\n",
       "      <th>RH</th>\n",
       "      <th>wind</th>\n",
       "      <th>rain</th>\n",
       "      <th>area</th>\n",
       "    </tr>\n",
       "  </thead>\n",
       "  <tbody>\n",
       "    <tr>\n",
       "      <th>0</th>\n",
       "      <td>7</td>\n",
       "      <td>5</td>\n",
       "      <td>mar</td>\n",
       "      <td>fri</td>\n",
       "      <td>86.2</td>\n",
       "      <td>26.2</td>\n",
       "      <td>94.3</td>\n",
       "      <td>5.1</td>\n",
       "      <td>8.2</td>\n",
       "      <td>51</td>\n",
       "      <td>6.7</td>\n",
       "      <td>0.0</td>\n",
       "      <td>0.0</td>\n",
       "    </tr>\n",
       "    <tr>\n",
       "      <th>1</th>\n",
       "      <td>7</td>\n",
       "      <td>4</td>\n",
       "      <td>oct</td>\n",
       "      <td>tue</td>\n",
       "      <td>90.6</td>\n",
       "      <td>35.4</td>\n",
       "      <td>669.1</td>\n",
       "      <td>6.7</td>\n",
       "      <td>18.0</td>\n",
       "      <td>33</td>\n",
       "      <td>0.9</td>\n",
       "      <td>0.0</td>\n",
       "      <td>0.0</td>\n",
       "    </tr>\n",
       "    <tr>\n",
       "      <th>2</th>\n",
       "      <td>7</td>\n",
       "      <td>4</td>\n",
       "      <td>oct</td>\n",
       "      <td>sat</td>\n",
       "      <td>90.6</td>\n",
       "      <td>43.7</td>\n",
       "      <td>686.9</td>\n",
       "      <td>6.7</td>\n",
       "      <td>14.6</td>\n",
       "      <td>33</td>\n",
       "      <td>1.3</td>\n",
       "      <td>0.0</td>\n",
       "      <td>0.0</td>\n",
       "    </tr>\n",
       "    <tr>\n",
       "      <th>3</th>\n",
       "      <td>8</td>\n",
       "      <td>6</td>\n",
       "      <td>mar</td>\n",
       "      <td>fri</td>\n",
       "      <td>91.7</td>\n",
       "      <td>33.3</td>\n",
       "      <td>77.5</td>\n",
       "      <td>9.0</td>\n",
       "      <td>8.3</td>\n",
       "      <td>97</td>\n",
       "      <td>4.0</td>\n",
       "      <td>0.2</td>\n",
       "      <td>0.0</td>\n",
       "    </tr>\n",
       "    <tr>\n",
       "      <th>4</th>\n",
       "      <td>8</td>\n",
       "      <td>6</td>\n",
       "      <td>mar</td>\n",
       "      <td>sun</td>\n",
       "      <td>89.3</td>\n",
       "      <td>51.3</td>\n",
       "      <td>102.2</td>\n",
       "      <td>9.6</td>\n",
       "      <td>11.4</td>\n",
       "      <td>99</td>\n",
       "      <td>1.8</td>\n",
       "      <td>0.0</td>\n",
       "      <td>0.0</td>\n",
       "    </tr>\n",
       "  </tbody>\n",
       "</table>\n",
       "</div>"
      ],
      "text/plain": [
       "   X  Y month  day  FFMC   DMC     DC  ISI  temp  RH  wind  rain  area\n",
       "0  7  5   mar  fri  86.2  26.2   94.3  5.1   8.2  51   6.7   0.0   0.0\n",
       "1  7  4   oct  tue  90.6  35.4  669.1  6.7  18.0  33   0.9   0.0   0.0\n",
       "2  7  4   oct  sat  90.6  43.7  686.9  6.7  14.6  33   1.3   0.0   0.0\n",
       "3  8  6   mar  fri  91.7  33.3   77.5  9.0   8.3  97   4.0   0.2   0.0\n",
       "4  8  6   mar  sun  89.3  51.3  102.2  9.6  11.4  99   1.8   0.0   0.0"
      ]
     },
     "execution_count": 3,
     "metadata": {},
     "output_type": "execute_result"
    }
   ],
   "source": [
    "df.head()"
   ]
  },
  {
   "cell_type": "code",
   "execution_count": 4,
   "id": "confirmed-drove",
   "metadata": {},
   "outputs": [],
   "source": [
    "X = df[df.columns[:-1]]\n",
    "y = df['area']"
   ]
  },
  {
   "cell_type": "markdown",
   "id": "weird-bridge",
   "metadata": {},
   "source": [
    "### Basic EDA <a class=\"anchor\" id=\"eda\"></a>"
   ]
  },
  {
   "cell_type": "markdown",
   "id": "eligible-windows",
   "metadata": {},
   "source": [
    "Target feature"
   ]
  },
  {
   "cell_type": "code",
   "execution_count": 5,
   "id": "smart-accident",
   "metadata": {},
   "outputs": [
    {
     "data": {
      "text/plain": [
       "(array([508.,   6.,   1.,   0.,   0.,   0.,   1.,   0.,   0.,   1.]),\n",
       " array([   0.   ,  109.084,  218.168,  327.252,  436.336,  545.42 ,\n",
       "         654.504,  763.588,  872.672,  981.756, 1090.84 ]),\n",
       " <BarContainer object of 10 artists>)"
      ]
     },
     "execution_count": 5,
     "metadata": {},
     "output_type": "execute_result"
    },
    {
     "data": {
      "image/png": "[encoded data removed]",
      "text/plain": [
       "<Figure size 432x288 with 1 Axes>"
      ]
     },
     "metadata": {
      "needs_background": "light"
     },
     "output_type": "display_data"
    }
   ],
   "source": [
    "plt.hist(y)"
   ]
  },
  {
   "cell_type": "markdown",
   "id": "alive-pledge",
   "metadata": {},
   "source": [
    "The target seems to be very concentrated around $0$ with a few outlier values."
   ]
  },
  {
   "cell_type": "markdown",
   "id": "aboriginal-forth",
   "metadata": {},
   "source": [
    "There are two categorigal features in this dataset. "
   ]
  },
  {
   "cell_type": "code",
   "execution_count": 6,
   "id": "placed-camel",
   "metadata": {},
   "outputs": [
    {
     "data": {
      "text/plain": [
       "<AxesSubplot:xlabel='day', ylabel='Count'>"
      ]
     },
     "execution_count": 6,
     "metadata": {},
     "output_type": "execute_result"
    },
    {
     "data": {
      "image/png": "[encoded data removed]",
      "text/plain": [
       "<Figure size 720x216 with 2 Axes>"
      ]
     },
     "metadata": {
      "needs_background": "light"
     },
     "output_type": "display_data"
    }
   ],
   "source": [
    "plt.figure(figsize=(10,3))\n",
    "plt.subplot(1,2,1)\n",
    "sns.histplot(data=X, x=\"month\", bins=10)\n",
    "plt.subplot(1,2,2)\n",
    "sns.histplot(data=X, x=\"day\")"
   ]
  },
  {
   "cell_type": "markdown",
   "id": "baking-illness",
   "metadata": {},
   "source": [
    "There is a majority of fires in August and September, it seems wise to use `month` as a feature. We also keep the feature `day`, we don't throw away any of the features."
   ]
  },
  {
   "cell_type": "markdown",
   "id": "nuclear-wesley",
   "metadata": {},
   "source": [
    "We use One-Hot Encoding to deal with them."
   ]
  },
  {
   "cell_type": "code",
   "execution_count": 7,
   "id": "upset-rebound",
   "metadata": {},
   "outputs": [],
   "source": [
    "df_month = pd.get_dummies(X.month, prefix='month')\n",
    "df_day = pd.get_dummies(X.day, prefix='day')\n",
    "X = pd.concat([X, df_month, df_day], axis=1)\n",
    "X = X.drop(columns=['month', 'day'])"
   ]
  },
  {
   "cell_type": "code",
   "execution_count": 8,
   "id": "proved-springfield",
   "metadata": {},
   "outputs": [
    {
     "data": {
      "text/html": [
       "<div>\n",
       "<style scoped>\n",
       "    .dataframe tbody tr th:only-of-type {\n",
       "        vertical-align: middle;\n",
       "    }\n",
       "\n",
       "    .dataframe tbody tr th {\n",
       "        vertical-align: top;\n",
       "    }\n",
       "\n",
       "    .dataframe thead th {\n",
       "        text-align: right;\n",
       "    }\n",
       "</style>\n",
       "<table border=\"1\" class=\"dataframe\">\n",
       "  <thead>\n",
       "    <tr style=\"text-align: right;\">\n",
       "      <th></th>\n",
       "      <th>X</th>\n",
       "      <th>Y</th>\n",
       "      <th>FFMC</th>\n",
       "      <th>DMC</th>\n",
       "      <th>DC</th>\n",
       "      <th>ISI</th>\n",
       "      <th>temp</th>\n",
       "      <th>RH</th>\n",
       "      <th>wind</th>\n",
       "      <th>rain</th>\n",
       "      <th>month_apr</th>\n",
       "      <th>month_aug</th>\n",
       "      <th>month_dec</th>\n",
       "      <th>month_feb</th>\n",
       "      <th>month_jan</th>\n",
       "      <th>month_jul</th>\n",
       "      <th>month_jun</th>\n",
       "      <th>month_mar</th>\n",
       "      <th>month_may</th>\n",
       "      <th>month_nov</th>\n",
       "      <th>month_oct</th>\n",
       "      <th>month_sep</th>\n",
       "      <th>day_fri</th>\n",
       "      <th>day_mon</th>\n",
       "      <th>day_sat</th>\n",
       "      <th>day_sun</th>\n",
       "      <th>day_thu</th>\n",
       "      <th>day_tue</th>\n",
       "      <th>day_wed</th>\n",
       "    </tr>\n",
       "  </thead>\n",
       "  <tbody>\n",
       "    <tr>\n",
       "      <th>0</th>\n",
       "      <td>7</td>\n",
       "      <td>5</td>\n",
       "      <td>86.2</td>\n",
       "      <td>26.2</td>\n",
       "      <td>94.3</td>\n",
       "      <td>5.1</td>\n",
       "      <td>8.2</td>\n",
       "      <td>51</td>\n",
       "      <td>6.7</td>\n",
       "      <td>0.0</td>\n",
       "      <td>0</td>\n",
       "      <td>0</td>\n",
       "      <td>0</td>\n",
       "      <td>0</td>\n",
       "      <td>0</td>\n",
       "      <td>0</td>\n",
       "      <td>0</td>\n",
       "      <td>1</td>\n",
       "      <td>0</td>\n",
       "      <td>0</td>\n",
       "      <td>0</td>\n",
       "      <td>0</td>\n",
       "      <td>1</td>\n",
       "      <td>0</td>\n",
       "      <td>0</td>\n",
       "      <td>0</td>\n",
       "      <td>0</td>\n",
       "      <td>0</td>\n",
       "      <td>0</td>\n",
       "    </tr>\n",
       "    <tr>\n",
       "      <th>1</th>\n",
       "      <td>7</td>\n",
       "      <td>4</td>\n",
       "      <td>90.6</td>\n",
       "      <td>35.4</td>\n",
       "      <td>669.1</td>\n",
       "      <td>6.7</td>\n",
       "      <td>18.0</td>\n",
       "      <td>33</td>\n",
       "      <td>0.9</td>\n",
       "      <td>0.0</td>\n",
       "      <td>0</td>\n",
       "      <td>0</td>\n",
       "      <td>0</td>\n",
       "      <td>0</td>\n",
       "      <td>0</td>\n",
       "      <td>0</td>\n",
       "      <td>0</td>\n",
       "      <td>0</td>\n",
       "      <td>0</td>\n",
       "      <td>0</td>\n",
       "      <td>1</td>\n",
       "      <td>0</td>\n",
       "      <td>0</td>\n",
       "      <td>0</td>\n",
       "      <td>0</td>\n",
       "      <td>0</td>\n",
       "      <td>0</td>\n",
       "      <td>1</td>\n",
       "      <td>0</td>\n",
       "    </tr>\n",
       "    <tr>\n",
       "      <th>2</th>\n",
       "      <td>7</td>\n",
       "      <td>4</td>\n",
       "      <td>90.6</td>\n",
       "      <td>43.7</td>\n",
       "      <td>686.9</td>\n",
       "      <td>6.7</td>\n",
       "      <td>14.6</td>\n",
       "      <td>33</td>\n",
       "      <td>1.3</td>\n",
       "      <td>0.0</td>\n",
       "      <td>0</td>\n",
       "      <td>0</td>\n",
       "      <td>0</td>\n",
       "      <td>0</td>\n",
       "      <td>0</td>\n",
       "      <td>0</td>\n",
       "      <td>0</td>\n",
       "      <td>0</td>\n",
       "      <td>0</td>\n",
       "      <td>0</td>\n",
       "      <td>1</td>\n",
       "      <td>0</td>\n",
       "      <td>0</td>\n",
       "      <td>0</td>\n",
       "      <td>1</td>\n",
       "      <td>0</td>\n",
       "      <td>0</td>\n",
       "      <td>0</td>\n",
       "      <td>0</td>\n",
       "    </tr>\n",
       "    <tr>\n",
       "      <th>3</th>\n",
       "      <td>8</td>\n",
       "      <td>6</td>\n",
       "      <td>91.7</td>\n",
       "      <td>33.3</td>\n",
       "      <td>77.5</td>\n",
       "      <td>9.0</td>\n",
       "      <td>8.3</td>\n",
       "      <td>97</td>\n",
       "      <td>4.0</td>\n",
       "      <td>0.2</td>\n",
       "      <td>0</td>\n",
       "      <td>0</td>\n",
       "      <td>0</td>\n",
       "      <td>0</td>\n",
       "      <td>0</td>\n",
       "      <td>0</td>\n",
       "      <td>0</td>\n",
       "      <td>1</td>\n",
       "      <td>0</td>\n",
       "      <td>0</td>\n",
       "      <td>0</td>\n",
       "      <td>0</td>\n",
       "      <td>1</td>\n",
       "      <td>0</td>\n",
       "      <td>0</td>\n",
       "      <td>0</td>\n",
       "      <td>0</td>\n",
       "      <td>0</td>\n",
       "      <td>0</td>\n",
       "    </tr>\n",
       "    <tr>\n",
       "      <th>4</th>\n",
       "      <td>8</td>\n",
       "      <td>6</td>\n",
       "      <td>89.3</td>\n",
       "      <td>51.3</td>\n",
       "      <td>102.2</td>\n",
       "      <td>9.6</td>\n",
       "      <td>11.4</td>\n",
       "      <td>99</td>\n",
       "      <td>1.8</td>\n",
       "      <td>0.0</td>\n",
       "      <td>0</td>\n",
       "      <td>0</td>\n",
       "      <td>0</td>\n",
       "      <td>0</td>\n",
       "      <td>0</td>\n",
       "      <td>0</td>\n",
       "      <td>0</td>\n",
       "      <td>1</td>\n",
       "      <td>0</td>\n",
       "      <td>0</td>\n",
       "      <td>0</td>\n",
       "      <td>0</td>\n",
       "      <td>0</td>\n",
       "      <td>0</td>\n",
       "      <td>0</td>\n",
       "      <td>1</td>\n",
       "      <td>0</td>\n",
       "      <td>0</td>\n",
       "      <td>0</td>\n",
       "    </tr>\n",
       "  </tbody>\n",
       "</table>\n",
       "</div>"
      ],
      "text/plain": [
       "   X  Y  FFMC   DMC     DC  ISI  temp  RH  wind  rain  month_apr  month_aug  \\\n",
       "0  7  5  86.2  26.2   94.3  5.1   8.2  51   6.7   0.0          0          0   \n",
       "1  7  4  90.6  35.4  669.1  6.7  18.0  33   0.9   0.0          0          0   \n",
       "2  7  4  90.6  43.7  686.9  6.7  14.6  33   1.3   0.0          0          0   \n",
       "3  8  6  91.7  33.3   77.5  9.0   8.3  97   4.0   0.2          0          0   \n",
       "4  8  6  89.3  51.3  102.2  9.6  11.4  99   1.8   0.0          0          0   \n",
       "\n",
       "   month_dec  month_feb  month_jan  month_jul  month_jun  month_mar  \\\n",
       "0          0          0          0          0          0          1   \n",
       "1          0          0          0          0          0          0   \n",
       "2          0          0          0          0          0          0   \n",
       "3          0          0          0          0          0          1   \n",
       "4          0          0          0          0          0          1   \n",
       "\n",
       "   month_may  month_nov  month_oct  month_sep  day_fri  day_mon  day_sat  \\\n",
       "0          0          0          0          0        1        0        0   \n",
       "1          0          0          1          0        0        0        0   \n",
       "2          0          0          1          0        0        0        1   \n",
       "3          0          0          0          0        1        0        0   \n",
       "4          0          0          0          0        0        0        0   \n",
       "\n",
       "   day_sun  day_thu  day_tue  day_wed  \n",
       "0        0        0        0        0  \n",
       "1        0        0        1        0  \n",
       "2        0        0        0        0  \n",
       "3        0        0        0        0  \n",
       "4        1        0        0        0  "
      ]
     },
     "execution_count": 8,
     "metadata": {},
     "output_type": "execute_result"
    }
   ],
   "source": [
    "X.head()"
   ]
  },
  {
   "cell_type": "code",
   "execution_count": 9,
   "id": "clear-index",
   "metadata": {},
   "outputs": [
    {
     "data": {
      "text/plain": [
       "<AxesSubplot:>"
      ]
     },
     "execution_count": 9,
     "metadata": {},
     "output_type": "execute_result"
    },
    {
     "data": {
      "image/png": "[encoded data removed]",
      "text/plain": [
       "<Figure size 792x648 with 2 Axes>"
      ]
     },
     "metadata": {
      "needs_background": "light"
     },
     "output_type": "display_data"
    }
   ],
   "source": [
    "corr = X.assign(area = y).corr()\n",
    "\n",
    "# Generate a mask for the upper triangle\n",
    "mask = np.triu(np.ones_like(corr, dtype=bool))\n",
    "\n",
    "# Set up the matplotlib figure\n",
    "f, ax = plt.subplots(figsize=(11, 9))\n",
    "\n",
    "# Generate a custom diverging colormap\n",
    "cmap = sns.diverging_palette(230, 20, as_cmap=True)\n",
    "\n",
    "# Draw the heatmap with the mask and correct aspect ratio\n",
    "sns.heatmap(corr, mask=mask, cmap=cmap, vmax=.3, center=0,\n",
    "            square=True, linewidths=.5, cbar_kws={\"shrink\": .5})"
   ]
  },
  {
   "cell_type": "markdown",
   "id": "continued-portuguese",
   "metadata": {},
   "source": [
    "There does not seem to be any one feature that is particularly highly correlated with area. We keep all the features."
   ]
  },
  {
   "cell_type": "markdown",
   "id": "indoor-mining",
   "metadata": {},
   "source": [
    "## Regression Study <a class=\"anchor\" id=\"regression\"></a>"
   ]
  },
  {
   "cell_type": "markdown",
   "id": "headed-future",
   "metadata": {},
   "source": [
    "### Help functions for residual computation and model definition <a class=\"anchor\" id=\"help\"></a>"
   ]
  },
  {
   "cell_type": "code",
   "execution_count": 10,
   "id": "civilian-welding",
   "metadata": {},
   "outputs": [],
   "source": [
    "def get_resid(reg, name, random_state):\n",
    "    X_train, X_test, y_train, y_test = train_test_split(X, y, test_size=0.2, \n",
    "                                                        random_state=random_state)\n",
    "    reg.fit(X_train, y_train)\n",
    "    return pd.DataFrame({'residuals': np.abs(reg.predict(X_test)-y_test), \n",
    "                            'name': name})"
   ]
  },
  {
   "cell_type": "markdown",
   "id": "southwest-variation",
   "metadata": {},
   "source": [
    "Definition of estimators.\n"
   ]
  },
  {
   "cell_type": "code",
   "execution_count": 11,
   "id": "seven-thomson",
   "metadata": {},
   "outputs": [],
   "source": [
    "ols = LinearRegression()\n",
    "rf = RandomForestRegressor(criterion='mae', max_depth=5, n_estimators=50)\n",
    "huber_reg = Pipeline(steps=[('scaler', RobustScaler()),\n",
    "                            ('reg',HuberRegressor(epsilon=1.0))])\n",
    "ts = TheilSenRegressor()\n",
    "svm = SVR(C=0.01)"
   ]
  },
  {
   "cell_type": "markdown",
   "id": "expressed-movement",
   "metadata": {},
   "source": [
    "\n",
    "scikit-learn-extra estimators use SGDRegressor as base estimator hence we need to scale the data.\n",
    "Being in a Robust Framework, we use RobustScaler."
   ]
  },
  {
   "cell_type": "code",
   "execution_count": 12,
   "id": "large-heavy",
   "metadata": {},
   "outputs": [],
   "source": [
    "RWE_huber = Pipeline([('scaler',RobustScaler()), \n",
    "                      ('reg',RobustWeightedRegressor(burn_in=0, loss='huber'))])\n",
    "RWE_mom = Pipeline(steps=[('scaler', RobustScaler()),\n",
    "                ('reg', RobustWeightedRegressor(k=5, loss='huber',burn_in=0, \n",
    "                                                weighting='mom'))])"
   ]
  },
  {
   "cell_type": "code",
   "execution_count": 13,
   "id": "social-multimedia",
   "metadata": {},
   "outputs": [],
   "source": [
    "names=['OLS', 'TheilSen', 'SVM', 'RF', 'Huber', 'RWE_Huber', 'RWE_MoM'] # names of estimators"
   ]
  },
  {
   "cell_type": "markdown",
   "id": "hundred-fifteen",
   "metadata": {},
   "source": [
    "### Computation of residuals on 1 fold. <a class=\"anchor\" id=\"1fold\"></a>"
   ]
  },
  {
   "cell_type": "code",
   "execution_count": 14,
   "id": "former-pottery",
   "metadata": {},
   "outputs": [
    {
     "name": "stderr",
     "output_type": "stream",
     "text": [
      "/usr/lib/python3.9/site-packages/sklearn/linear_model/_huber.py:296: ConvergenceWarning: lbfgs failed to converge (status=1):\n",
      "STOP: TOTAL NO. of ITERATIONS REACHED LIMIT.\n",
      "\n",
      "Increase the number of iterations (max_iter) or scale the data as shown in:\n",
      "    https://scikit-learn.org/stable/modules/preprocessing.html\n",
      "  self.n_iter_ = _check_optimize_result(\"lbfgs\", opt_res, self.max_iter)\n"
     ]
    }
   ],
   "source": [
    "residuals_lr = get_resid(ols, 'OLS', 42)\n",
    "residuals_huber = get_resid(huber_reg, 'Huber', 42)\n",
    "residuals_theil = get_resid(ts, 'TheilSen', 42)\n",
    "residuals_rf = get_resid(rf, 'RF', 42)\n",
    "residuals_svm = get_resid(svm, 'SVM', 42)\n",
    "residuals_rwe_hub = get_resid(RWE_huber, 'RWE_Huber', 42)\n",
    "residuals_rwe_mom = get_resid(RWE_mom, 'RWE_MoM', 42)\n",
    "\n",
    "\n",
    "residuals = pd.concat([residuals_lr, residuals_theil,residuals_rf,residuals_huber, \n",
    "                       residuals_rwe_hub, residuals_rwe_mom, residuals_svm])"
   ]
  },
  {
   "cell_type": "code",
   "execution_count": 15,
   "id": "racial-physiology",
   "metadata": {},
   "outputs": [
    {
     "data": {
      "text/plain": [
       "(-0.5, 30.0)"
      ]
     },
     "execution_count": 15,
     "metadata": {},
     "output_type": "execute_result"
    },
    {
     "data": {
      "image/png": "[encoded data removed]",
      "text/plain": [
       "<Figure size 864x360 with 1 Axes>"
      ]
     },
     "metadata": {
      "needs_background": "light"
     },
     "output_type": "display_data"
    }
   ],
   "source": [
    "plt.figure(figsize=(12,5))\n",
    "sns.boxplot(data = residuals, x='name', y='residuals', order=names)\n",
    "plt.title(\"Residuals on one fold\")\n",
    "plt.ylim(-0.5,30)"
   ]
  },
  {
   "cell_type": "markdown",
   "id": "nominated-smooth",
   "metadata": {},
   "source": []
  },
  {
   "cell_type": "markdown",
   "id": "white-climb",
   "metadata": {},
   "source": [
    "### Computation of residuals on 10 folds and discussion on the evaluation metric <a class=\"anchor\" id=\"10fold\"></a>"
   ]
  },
  {
   "cell_type": "code",
   "execution_count": 16,
   "id": "future-representation",
   "metadata": {},
   "outputs": [],
   "source": [
    "import warnings\n",
    "from sklearn.exceptions import ConvergenceWarning\n",
    "warnings.filterwarnings(\"ignore\", category=ConvergenceWarning) "
   ]
  },
  {
   "cell_type": "markdown",
   "id": "joint-secondary",
   "metadata": {},
   "source": [
    "**Warning**: I disabled convergence warning. HuberRegressor do not converge and I didn't succeed in making it convergent, but I disabled the warnings to avoid cluttered output."
   ]
  },
  {
   "cell_type": "code",
   "execution_count": 17,
   "id": "needed-narrow",
   "metadata": {
    "scrolled": true
   },
   "outputs": [],
   "source": [
    "\n",
    "folds = 10\n",
    "results = []\n",
    "\n",
    "for f in range(folds) :\n",
    "    residuals_lr = get_resid(ols, 'OLS', f)\n",
    "    residuals_huber = get_resid(huber_reg, 'Huber', f)\n",
    "    residuals_theil = get_resid(ts, 'TheilSen', f)\n",
    "    residuals_rf = get_resid(rf, 'RF', f)\n",
    "    residuals_svm = get_resid(svm, 'SVM', f)\n",
    "    residuals_rwe_hub = get_resid(RWE_huber, 'RWE_Huber', f)\n",
    "    residuals_rwe_mom = get_resid(RWE_mom, 'RWE_MoM', f)\n",
    "\n",
    "\n",
    "    residuals = pd.concat([residuals_lr, residuals_theil,residuals_rf,residuals_huber, \n",
    "                       residuals_rwe_hub, residuals_rwe_mom, residuals_svm])\n",
    "    results += [residuals.groupby(['name']).residuals.agg(['mean', 'median'])]"
   ]
  },
  {
   "cell_type": "code",
   "execution_count": 18,
   "id": "digital-reading",
   "metadata": {},
   "outputs": [],
   "source": [
    "results = pd.concat([res.reset_index() for res in results])"
   ]
  },
  {
   "cell_type": "code",
   "execution_count": 19,
   "id": "brave-desert",
   "metadata": {},
   "outputs": [
    {
     "data": {
      "text/html": [
       "<div>\n",
       "<style scoped>\n",
       "    .dataframe tbody tr th:only-of-type {\n",
       "        vertical-align: middle;\n",
       "    }\n",
       "\n",
       "    .dataframe tbody tr th {\n",
       "        vertical-align: top;\n",
       "    }\n",
       "\n",
       "    .dataframe thead th {\n",
       "        text-align: right;\n",
       "    }\n",
       "</style>\n",
       "<table border=\"1\" class=\"dataframe\">\n",
       "  <thead>\n",
       "    <tr style=\"text-align: right;\">\n",
       "      <th></th>\n",
       "      <th>name</th>\n",
       "      <th>mean</th>\n",
       "      <th>median</th>\n",
       "    </tr>\n",
       "  </thead>\n",
       "  <tbody>\n",
       "    <tr>\n",
       "      <th>0</th>\n",
       "      <td>Huber</td>\n",
       "      <td>22.884708</td>\n",
       "      <td>1.741308</td>\n",
       "    </tr>\n",
       "    <tr>\n",
       "      <th>1</th>\n",
       "      <td>OLS</td>\n",
       "      <td>26.267418</td>\n",
       "      <td>9.038831</td>\n",
       "    </tr>\n",
       "    <tr>\n",
       "      <th>2</th>\n",
       "      <td>RF</td>\n",
       "      <td>23.040344</td>\n",
       "      <td>1.819200</td>\n",
       "    </tr>\n",
       "    <tr>\n",
       "      <th>3</th>\n",
       "      <td>RWE_Huber</td>\n",
       "      <td>22.779716</td>\n",
       "      <td>1.443106</td>\n",
       "    </tr>\n",
       "    <tr>\n",
       "      <th>4</th>\n",
       "      <td>RWE_MoM</td>\n",
       "      <td>22.759532</td>\n",
       "      <td>1.277189</td>\n",
       "    </tr>\n",
       "  </tbody>\n",
       "</table>\n",
       "</div>"
      ],
      "text/plain": [
       "        name       mean    median\n",
       "0      Huber  22.884708  1.741308\n",
       "1        OLS  26.267418  9.038831\n",
       "2         RF  23.040344  1.819200\n",
       "3  RWE_Huber  22.779716  1.443106\n",
       "4    RWE_MoM  22.759532  1.277189"
      ]
     },
     "execution_count": 19,
     "metadata": {},
     "output_type": "execute_result"
    }
   ],
   "source": [
    "results.head()"
   ]
  },
  {
   "cell_type": "code",
   "execution_count": 20,
   "id": "knowing-charter",
   "metadata": {},
   "outputs": [],
   "source": [
    "results = results.melt(id_vars=[\"name\"], \n",
    "        var_name=\"Statistic\", \n",
    "        value_name=\"Value\")"
   ]
  },
  {
   "cell_type": "code",
   "execution_count": 21,
   "id": "uniform-photography",
   "metadata": {},
   "outputs": [
    {
     "data": {
      "text/plain": [
       "(-0.5, 25.0)"
      ]
     },
     "execution_count": 21,
     "metadata": {},
     "output_type": "execute_result"
    },
    {
     "data": {
      "image/png": "[encoded data removed]",
      "text/plain": [
       "<Figure size 864x360 with 1 Axes>"
      ]
     },
     "metadata": {
      "needs_background": "light"
     },
     "output_type": "display_data"
    }
   ],
   "source": [
    "plt.figure(figsize=(12,5))\n",
    "sns.boxplot(data = results, x='name', y='Value',hue=\"Statistic\", order=names)\n",
    "plt.title(\"Mean/Median residuals on 10 fold\")\n",
    "plt.ylim(-0.5,25)"
   ]
  },
  {
   "cell_type": "markdown",
   "id": "bibliographic-compression",
   "metadata": {},
   "source": [
    "The mean values are hard to differentiate but the median values are better to choose one model compared to another one."
   ]
  },
  {
   "cell_type": "code",
   "execution_count": 22,
   "id": "vocational-emerald",
   "metadata": {},
   "outputs": [
    {
     "data": {
      "text/plain": [
       "(-0.5, 15.0)"
      ]
     },
     "execution_count": 22,
     "metadata": {},
     "output_type": "execute_result"
    },
    {
     "data": {
      "image/png": "[encoded data removed]",
      "text/plain": [
       "<Figure size 864x360 with 1 Axes>"
      ]
     },
     "metadata": {
      "needs_background": "light"
     },
     "output_type": "display_data"
    }
   ],
   "source": [
    "plt.figure(figsize=(12,5))\n",
    "sns.boxplot(data = results.loc[results.Statistic == 'median'], \n",
    "            x='name', y='Value', order=names)\n",
    "plt.title(\"Median residuals on 10 fold\")\n",
    "plt.ylim(-0.5,15)"
   ]
  },
  {
   "cell_type": "markdown",
   "id": "composed-rider",
   "metadata": {},
   "source": [
    "The winner seems to be either SVM or RWE estimators. \n",
    "\n",
    "The deficiencies of HuberRegressor are likely due to optimization problems as indicated by the convergence errors displayed during training."
   ]
  },
  {
   "cell_type": "markdown",
   "id": "thorough-third",
   "metadata": {},
   "source": [
    "## Annex : Selection of Hyperparameters <a class=\"anchor\" id=\"annex\"></a>"
   ]
  },
  {
   "cell_type": "code",
   "execution_count": 22,
   "id": "noted-coalition",
   "metadata": {},
   "outputs": [
    {
     "data": {
      "text/plain": [
       "SVR(C=0.1)"
      ]
     },
     "execution_count": 22,
     "metadata": {},
     "output_type": "execute_result"
    }
   ],
   "source": [
    "parameters = {'kernel':('linear', 'rbf'), 'C':[0.01, 0.1, 1, 10, 100]}\n",
    "svr = SVR()\n",
    "clf = GridSearchCV(svr, parameters,scoring='neg_median_absolute_error', cv=10)\n",
    "clf.fit(X, y)\n",
    "clf.best_estimator_"
   ]
  },
  {
   "cell_type": "code",
   "execution_count": 23,
   "id": "imposed-foster",
   "metadata": {},
   "outputs": [
    {
     "data": {
      "text/plain": [
       "RandomForestRegressor(criterion='mae', max_depth=5)"
      ]
     },
     "execution_count": 23,
     "metadata": {},
     "output_type": "execute_result"
    }
   ],
   "source": [
    "parameters = {'n_estimators':[50,100,200], \n",
    "              'max_depth':[None,5, 10], \n",
    "              'criterion':['mse', 'mae']}\n",
    "rf = RandomForestRegressor()\n",
    "clf = GridSearchCV(rf, parameters,scoring='neg_median_absolute_error', cv=10)\n",
    "clf.fit(X, y)\n",
    "clf.best_estimator_"
   ]
  },
  {
   "cell_type": "code",
   "execution_count": 24,
   "id": "applied-piece",
   "metadata": {},
   "outputs": [
    {
     "data": {
      "text/plain": [
       "Pipeline(steps=[('scaler', RobustScaler()),\n",
       "                ('reg', RobustWeightedRegressor(c=1, loss='huber'))])"
      ]
     },
     "execution_count": 24,
     "metadata": {},
     "output_type": "execute_result"
    }
   ],
   "source": [
    "parameters = {'reg__c':[ 1e-4, 1e-3,1e-2,1e-1,1,5,10,50,None], \n",
    "              'reg__loss':['huber', \"squared_loss\"],\n",
    "              'reg__burn_in':[0, 10]\n",
    "             }\n",
    "reg = RWE_huber = Pipeline([('scaler',RobustScaler()), \n",
    "                      ('reg',RobustWeightedRegressor())])\n",
    "clf = GridSearchCV(reg, parameters,scoring='neg_median_absolute_error', cv=10)\n",
    "clf.fit(X, y)\n",
    "clf.best_estimator_"
   ]
  },
  {
   "cell_type": "code",
   "execution_count": 25,
   "id": "dense-desktop",
   "metadata": {},
   "outputs": [
    {
     "data": {
      "text/plain": [
       "Pipeline(steps=[('scaler', RobustScaler()),\n",
       "                ('reg',\n",
       "                 RobustWeightedRegressor(burn_in=0, k=5, loss='huber',\n",
       "                                         weighting='mom'))])"
      ]
     },
     "execution_count": 25,
     "metadata": {},
     "output_type": "execute_result"
    }
   ],
   "source": [
    "parameters = {'reg__k':[1,2,3,4,5, None], \n",
    "              'reg__weighting':['mom'],\n",
    "              'reg__loss':['huber', \"squared_loss\"],\n",
    "              'reg__burn_in':[0, 10]\n",
    "             }\n",
    "reg = RWE_MoM = Pipeline([('scaler',RobustScaler()), \n",
    "                      ('reg',RobustWeightedRegressor())])\n",
    "clf = GridSearchCV(reg, parameters,scoring='neg_median_absolute_error', cv=10)\n",
    "clf.fit(X, y)\n",
    "clf.best_estimator_"
   ]
  },
  {
   "cell_type": "code",
   "execution_count": 26,
   "id": "impaired-aaron",
   "metadata": {},
   "outputs": [
    {
     "data": {
      "text/plain": [
       "HuberRegressor(epsilon=1.0)"
      ]
     },
     "execution_count": 26,
     "metadata": {},
     "output_type": "execute_result"
    }
   ],
   "source": [
    "parameters = {'epsilon':[1.0, 1.5, 2.0, 5.0], \n",
    "              'alpha':[1e-4, 1e-3, 1e-2, 1e-1],\n",
    "              'max_iter':[100,200]\n",
    "             }\n",
    "reg = HuberRegressor()\n",
    "clf = GridSearchCV(reg, parameters,scoring='neg_median_absolute_error', cv=10)\n",
    "clf.fit(X, y)\n",
    "clf.best_estimator_"
   ]
  },
  {
   "cell_type": "code",
   "execution_count": null,
   "id": "spoken-memorial",
   "metadata": {},
   "outputs": [],
   "source": []
  }
 ],
 "metadata": {
  "kernelspec": {
   "display_name": "Python 3",
   "language": "python",
   "name": "python3"
  },
  "language_info": {
   "codemirror_mode": {
    "name": "ipython",
    "version": 3
   },
   "file_extension": ".py",
   "mimetype": "text/x-python",
   "name": "python",
   "nbconvert_exporter": "python",
   "pygments_lexer": "ipython3",
   "version": "3.9.2"
  }
 },
 "nbformat": 4,
 "nbformat_minor": 5
}
